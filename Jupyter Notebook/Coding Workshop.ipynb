{
 "cells": [
  {
   "cell_type": "markdown",
   "metadata": {},
   "source": [
    "# Welcome to Python 3!"
   ]
  },
  {
   "cell_type": "markdown",
   "metadata": {},
   "source": [
    "In this [Jupyter Notebook](https://jupyter-notebook-beginner-guide.readthedocs.io/en/latest/what_is_jupyter.html) we will cover some [Python 3](https://en.wikipedia.org/wiki/Python_(programming_language)) basics.\n",
    "\n",
    "I recommed you take this one step at a time and try to practice along the way. Every explaination will contain an example that you can run within the notebook.\n"
   ]
  },
  {
   "cell_type": "markdown",
   "metadata": {},
   "source": [
    "### Here are the things we will be covering: <a name = \"index\"></a>\n",
    "- [Jupyter Notebook:](#jupyter)\n",
    "    - What is Jupyer?\n",
    "    - What can I use Jupyter Notebooks for?\n",
    "    \n",
    "    \n",
    "- [GitHub:](#github)\n",
    "    - What is version control?\n",
    "    - What is Git?\n",
    "    - What is GitHub?\n",
    "    - What are we going to use GitHub for?\n",
    "    \n",
    "    \n",
    "- [Python 3:](#python3)\n",
    "    - What is Python 3?\n",
    "    - Why Python 3?\n",
    "    \n",
    "\n",
    "- [Syntax:](#syntax)\n",
    "    - Comments\n",
    "    - Print\n",
    "    - Variables\n",
    "        - [Strings](#section-syntax-strings)\n",
    "        - [Intergers and Floats](#section-variables-numbers)\n",
    "        - [Mathematical Operations](#variables-math)\n",
    "        - [String Math](#section-variables-stringmath)\n",
    "   \n",
    "   \n",
    "- [Loops:](#loops)\n",
    "    - What are loops?\n",
    "    - Types of loops:\n",
    "        - For\n",
    "        - While\n",
    "\n",
    "\n",
    "- [Conditionals:](#conditionals)\n",
    "    - What are conditionals?\n",
    "    - Types of conditionals:\n",
    "        - If\n",
    "        - Elif \n",
    "        - Else\n",
    "\n",
    "\n",
    "- [Functions:](#functions)\n",
    "\t- What are functions?\n",
    "\t\t\n",
    "        "
   ]
  },
  {
   "cell_type": "markdown",
   "metadata": {},
   "source": [
    "---\n",
    "---"
   ]
  },
  {
   "cell_type": "markdown",
   "metadata": {},
   "source": [
    "## 1. Jupyter Notebooks: <a name = \"jupyter\"></a>\n",
    "\n",
    "#### - What are Jupyter Notebooks?\n",
    "Jupyter Notebooks is an online notebook that allows developers to weave together computational information (code, data, statistics) with a narrative, multimedia or graphs. \n",
    "\n",
    "#### - What can I use Jupyter Notebooks for?\n",
    "In this case, we are goig to be using it to set up an interactive textbook, full of explanations and examples which you can test out right from your browser. \n",
    "\n",
    "You could use it to explain the reasoning behind one of your programs, show your work, etc.\n",
    "\n",
    "Scientists, journalists, and researchers often use it to open up their data to the public, share the stories behind their computations, and enable future collaboration and innovation.\n",
    "In short, there are endless uses for Jupyter Notebooks."
   ]
  },
  {
   "cell_type": "markdown",
   "metadata": {},
   "source": [
    "---\n",
    "---"
   ]
  },
  {
   "cell_type": "markdown",
   "metadata": {},
   "source": [
    "## 2. GitHub: <a name = \"github\"></a>\n",
    "In broad, GitHub is a website and cloud-based service that helps developers store and manage their code, as well as track and control changes to it. To understand exactly what GitHub is, you need to understand two principles, version control and git.\n",
    "\n",
    "#### - What is version control?\n",
    "Version control helps developers track and manage changes to a project’s code. As a software project grows, version control becomes essential. It lets developers safely work through branching and merging.\n",
    "\n",
    "   - **Branching:** With branching, a developer clones part of the source code to a safe location. Where the developer can then make changes without affecting the rest of the project. \n",
    "   - **Merging:** Once the developer gets their version of the code working properly, they can merge that code back into the main source code to make it official.\n",
    "   \n",
    "All of these changes are then tracked and can be undone if anything breaks or a feature's implementation is deemed unnecessary.\n",
    "\n",
    "#### - What is Git?\n",
    "Git is a specific open-source version control system created by Linus Torvalds (the creator of the Linux kernel) in 2005.\n",
    "\n",
    "Specifically, Git is a distributed version control system, which means that the entire codebase and history is available on every developer’s computer, which allows for seamless branching and merging by everyone in the project.\n",
    "\n",
    "#### - What is GitHub?\n",
    "GitHub is a company that offers a cloud-based Git repository hosting service. Basically, it makes it a lot easier for individuals and teams to use Git for version control and collaboration.\n",
    "\n",
    "GitHub’s interface is so user-friendly that beginner developers can take advantage of Git. Without GitHub, using Git generally requires a bit more technical knowledge and use of the command line.\n",
    "\n",
    "Additionally, anyone can sign up and host a public code repository for free, which makes GitHub especially popular with open-source projects.\n",
    "\n",
    "#### What are we going to use GitHub for?\n",
    "We will mainly use GitHub to store project files that will be covered during each session of the Coding Club.\n",
    "That will allow us to keep track of the file's history and provide you, the user, a place to conveniently access all project files."
   ]
  },
  {
   "cell_type": "markdown",
   "metadata": {},
   "source": [
    "---\n",
    "---"
   ]
  },
  {
   "cell_type": "markdown",
   "metadata": {},
   "source": [
    "## 3. Python 3:  <a name = \"python3\"></a>\n",
    "\n",
    "Python is one of the most widely used languages out there. Be it web development, machine learning and AI, or even micro-controller programming, Python has found its place just about everywhere.\n",
    "\n",
    "#### - What is Python 3?\n",
    "Python is an extremely powerful, yet beginner friendly, programming language. It was created by Guido van Rossum, and released in 1991. Python 3 is ideal for scripting and rapid application development. It is used in areas such as web development (Django, Bottle...), scientific and mathematical computing (Orange, SymPy, NumPy...) or desktop graphical user Interfaces (Pygame, Panda3D, Processing.py...).\n",
    "\n",
    "Python also supports an extremely wide range of modules, sets of pre-made code that you can easily include in your own projects, which speed up your code building sessions significantly, and help make it be even more beginner friendly.\n",
    "\n",
    "Python has consistently been one of the most used programming languages since the early 2000s.\n",
    "\n",
    "#### - Why Python 3?\n",
    "There are many things that make Python 3 stand out from other languages. For example: \n",
    "   - Python is seamlessly integrated into may different platforms such as MacOS, Windows or most Linux distributions\n",
    "\n",
    "   - Python's syntax is fairly similar to the English language, which allows for easy readability and understanding of the code.\n",
    "   \n",
    "   - Python runs on an interpreter system, meaning that code can be executed as soon as it is written. This means that prototyping can be very quick.\n",
    "\n",
    "   - Python can be treated in a procedural way or an object-orientated way. [Extra Resources](https://www.youtube.com/watch?v=pTB0EiLXUC8)\n",
    "   \n",
    "#### Extra information:\n",
    "Python was designed for readability, and has some similarities to the English language with influence from mathematics.\n",
    "Python uses new lines to complete a command, as opposed to other programming languages which often use semicolons or parentheses, it also relies on indentation, using whitespace, to define [scope](#word-scope)."
   ]
  },
  {
   "cell_type": "markdown",
   "metadata": {},
   "source": [
    "---\n",
    "---"
   ]
  },
  {
   "cell_type": "markdown",
   "metadata": {},
   "source": [
    "## 4. Syntax: <a name = \"syntax\"></a>\n",
    "We tell the computer what we want it to do by writing commands inside a text file using a programming language. These files are called programs. Running a program means telling a computer to read the text file, translate it to the set of operations that it understands, and perform those actions.\n",
    "\n",
    "Complete the next example by writing what your favorite food is whithin the quotes (\"\") and hitting run."
   ]
  },
  {
   "cell_type": "code",
   "execution_count": null,
   "metadata": {},
   "outputs": [],
   "source": [
    "fav_food = \" \"\n",
    "print(\"My favorite food is \" + fav_food + \"!\")"
   ]
  },
  {
   "cell_type": "markdown",
   "metadata": {},
   "source": [
    "#### - Comments:\n",
    "The first thing we’re going to do is learn how to tell a computer to ignore a part of a program. Text within a program but not run by the computer is called a comment. Python interprets anything after a `#` as a comment.\n",
    "\n",
    "-  ***Some uses for comments are:***\n",
    "   - Provide context for why something is written the way it is:\n",
    "```python \n",
    "         # This variable will be used to count the number of times anyone steps on a banana peel\n",
    "         slip_n_slide_count = 0\n",
    "```\n",
    "   - Improve the readibility of your code so that future you or someone else can easily understand what it does:\n",
    "```python \n",
    "         # This function stores all the times I have said XD into a text file\n",
    "         xd_to_textfile()\n",
    "```\n",
    "   - Ignore a line of code that is proving to be buggy or unnecessary:\n",
    "```python \n",
    "         # superstar_name = get_superstar_name_old()\n",
    "         superstar_name = get_superstar_name_new()\n",
    "```\n",
    "\n",
    "Complete the following example by writing the description of a realy cool superhero within a comment."
   ]
  },
  {
   "cell_type": "code",
   "execution_count": null,
   "metadata": {},
   "outputs": [],
   "source": [
    "# Write you comment bellow this one...\n"
   ]
  },
  {
   "cell_type": "markdown",
   "metadata": {},
   "source": [
    "#### - Print: <a name='section-syntax-print'> </a>\n",
    "Now what we’re going to do is teach our computer to share information. Getting information from the computer is very important, as it can answer questions about “how” or “why” or “what” it is doing. In Python, the `print()` function is used to get some information from the computer. The message to be printed should be surrounded by quotes (\"\"):\n",
    "```python \n",
    "        # from Karen circa 2020\n",
    "        print(\"\"Live, laugh, love.\"\")\n",
    "```\n",
    "In the example above, we get our program to `print()` a quote from an entitled person. The printed words that appear as a result of the `print()` function are referred to as *output*. The output of this example program would be:\n",
    "\n",
    "⠀⠀⠀⠀⠀⠀⠀⠀⠀`Live, laugh, love.`\n",
    "\n",
    "For this example, you will need to print out your favorite quote, remember to put it between the quotes:"
   ]
  },
  {
   "cell_type": "code",
   "execution_count": null,
   "metadata": {},
   "outputs": [],
   "source": [
    "# Print your favorite quote below:\n",
    "print(\"\")"
   ]
  },
  {
   "cell_type": "markdown",
   "metadata": {},
   "source": [
    "#### - Strings:  <a name='section-syntax-string'> </a>\n",
    "In programming, blocks of text are called strings. In our last exercise, we created the string `\"Hello world!\"`. To tell Python a group of letters is a string, we surround it in either double quotes `(\"Hello world\")` or single quotes `('Hello world')`. They both do the same, so it doesn't matter which ones you use, just make sure to be consistent.\n",
    "\n",
    "To complete the following example exercise print your name:"
   ]
  },
  {
   "cell_type": "code",
   "execution_count": null,
   "metadata": {},
   "outputs": [],
   "source": []
  },
  {
   "cell_type": "markdown",
   "metadata": {},
   "source": [
    "#### - Variables: \n",
    "All programming languages offer a way to store data and reuse it later. If, for example, there is a greeting we want to say, a date we need to reuse, or a username we need to save we can create a variable which will store that value. In Python, we assign variables by using the equals sign `=`. Look at the following example:\n",
    "```python\n",
    "        user_name = \"jarredthejellyfish\"\n",
    "        # Prints \"jarredthejellyfish\"\n",
    "        print(user_name)\n",
    "```\n",
    "In the last example, we stored my username into a variable called `user_name`. Variables can’t have spaces or symbols in their names other than an underscore `_`. They can’t begin with numbers but they can have numbers after the first letter (e.g., `cool_variable_5` is OK).\n",
    "\n",
    "We call these objects `variables` because the values they can hold can vary throughout the program we are running. If you look at the following example, you will see how the value stored within `favorite_song` is changed.\n",
    "```python\n",
    "        # Favorite song\n",
    "        favorite_song = \"Eventually, Tame Impala\"\n",
    "        print(message_string)\n",
    "\n",
    "        # Change of mind\n",
    "        favorite_song = \"New Person, Same Old Mistakes, Tame Impala\"\n",
    "        print(message_string)\n",
    "```\n",
    "\n",
    "In the example above, we create a variable, `favorite_song`, and assign the string `\"Eventually, Tame Impala\"` to it and after that, we use `print()` to output it to the console. \n",
    "\n",
    "In the second part, we assign a new value to `favorite_song`, `New Person, Same Old Mistakes, Tame Impala`. Finally we print the last value using `print()`.\n",
    "\n",
    "Complete the following practice exercisse:"
   ]
  },
  {
   "cell_type": "code",
   "execution_count": null,
   "metadata": {},
   "outputs": [],
   "source": [
    "# Below you have the varibale 'movie_title'\n",
    "movie_title = 'Interstellar'\n",
    "\n",
    "# Printing out movie_title\n",
    "print(\"Gerard's favorite movie is:\")\n",
    "print(movie_title)\n",
    "\n",
    "# Reassign the title of another movie to movie title below (remember to use quotes)\n",
    "movie_title = \n",
    "\n",
    "# Printing out movie_title\n",
    "print('A good movie to watch is:')\n",
    "print(movie_title)\n",
    "\n",
    "# And now do it again but with a horror movie!\n",
    "\n",
    "\n",
    "# Printing out 'movie_title'\n",
    "print('Hey, you should watch the following movie:')\n",
    "print(movie_title)"
   ]
  },
  {
   "cell_type": "markdown",
   "metadata": {},
   "source": [
    "Up to this point we have been working with strings, but there are other types of variables such as:\n",
    "- **Integer (or int):** Used for whole numbers, numbers that have no decimal points.\n",
    "- **Float (or Real):** Used for numbers that contain decimal points, or for fractions.\n",
    "- **Boolean (or bool):** Used where data is restricted to binary options (True/False, yes/no).\n",
    "\n",
    "We will work with these types of variales throughout the following sections."
   ]
  },
  {
   "cell_type": "markdown",
   "metadata": {},
   "source": [
    "#### - Varibales: Intergers and Floats:  <a name='section-variables-numbers'> </a>\n",
    "A computer is capable of handling much more than a group of letters. Python has a few numeric [data types](#word-data-type), it has multiple ways of storing numbers. Which one you use depends on your intended purpose for the number you are saving.\n",
    "\n",
    "Intergers, or `ints`, are numbers without a decimal point, whole numbers. Intergers contain all natural numbers (`0, 1, 2 ,3...`) and their negative counterparts (`-1, -2, -3...`). As a practical example of how to use an interger, lets take counting the number of people in a room. If you try to do that, you should always get a whole number, if you don't, please make sure you didn't split Jonny in half, he doesn't deserve it.\n",
    "\n",
    "Floating-point numbers, or `floats`, are a decimal numbers (`420.69`). Floats can be used for a wide range of things such as holding a fractional number or a measurement. \n",
    "\n",
    "If you were measuring the length of your leg, storing a chess player’s average time between moves, or the average score of your friend group's rice purity test, you would likely use a float.\n",
    "\n",
    "Numbers can be assigned to variables or used for mathematical operations in a program:\n",
    "```python\n",
    "        an_interger = 4\n",
    "        a_float = 20.6\n",
    "\n",
    "        print(an_interger + 3) # There is a mathematical operation within the print!\n",
    "        # prints 5\n",
    "```\n",
    "Above we defined an `integer` and a `float` as the variables `an_interger` and `a_float`. We printed out the sum of the variable `an_interger` with the number `3`. `We call the number 3 here a literal`, meaning it’s actually the number 3 and not a variable with the number 3 assigned to it.\n",
    "\n",
    "There are some limitations that floating point numbers face, they can affect their functioning which can lead to some unexpected behaviour. If you'd like to read more about their limitations visit [Python’s documentation on their limitations](https://docs.python.org/3/tutorial/floatingpoint.html).\n",
    "\n",
    "Complete the next exercise by followin the instructions within it:"
   ]
  },
  {
   "cell_type": "code",
   "execution_count": null,
   "metadata": {},
   "outputs": [],
   "source": [
    "# Create a new variable bewlow that stores your phone number (without any formatting or country code eg. 605660522)\n",
    "\n",
    "\n",
    "# Create a new variable below that holds any decimal number you want\n",
    "\n",
    "\n",
    "\n",
    "# Print both of your variables using the print() function below"
   ]
  },
  {
   "cell_type": "markdown",
   "metadata": {},
   "source": [
    "#### - Variables: Mathematical Operations  <a name='variables-math'> </a>\n",
    "Computers are absolutely amazing at doing math. Their name literally comes from \"compute\", which means to calculate.  Python can perform most basic operations; addition, subtraction, multiplication, and division by using +, -, *, and /.\n",
    "```python\n",
    "        # Prints \"420\"\n",
    "        print(430 - 124 + 1)\n",
    "\n",
    "        # Prints \"666\"\n",
    "        print(333 * 2)\n",
    "\n",
    "        # Prints \"69.0\"\n",
    "        print(345 / 5)\n",
    "```\n",
    "If you look at the output from `print(345/5)` you will see that it has a decimal place. That happens because python converts interger numbers to floats before performing a division so that it can store decimals, in case that your division results in any.\n",
    "\n",
    "Division can throw its own special error: `ZeroDivisionError`. Python will raise this error when attempting to divide by 0. Quick reminder, dividing by zero has no definite answer because you can't split something in 0 parts.\n",
    "\n",
    "Mathematical operations in Python follow the standard mathematical order of operations. Here is a [Wikipedia article](https://en.wikipedia.org/wiki/Order_of_operations) in case you need a refresher.\n",
    "\n",
    "Complete the following exercise by followin the instructions within it:"
   ]
  },
  {
   "cell_type": "code",
   "execution_count": null,
   "metadata": {},
   "outputs": [],
   "source": [
    "# Print out the result of: 64500/150 - 10.31 + 1\n",
    "\n"
   ]
  },
  {
   "cell_type": "markdown",
   "metadata": {},
   "source": [
    "<a name='section-plus-equals'> </a> Python offers an easier way to update variables. When you have a number saved in a variable and want to add to the current value of the variable, you can use the `+=` (plus-equals) operator. \n",
    "```python\n",
    "        # First we have a variable with a number saved\n",
    "        number_of_headshots = 120\n",
    "\n",
    "        # Then we need to update that variable\n",
    "        # Let's say we headshot another 2 players\n",
    "        number_of_headshots += 2\n",
    "\n",
    "        # The new value is the old value\n",
    "        # Plus the number after the plus-equals\n",
    "        print(number_of_miles_hiked)\n",
    "        # Prints 122\n",
    "```\n",
    "Above, we keep a running count of the number of miles a person has gone hiking over time. Instead of recalculating from the start, we keep a grand total and update it when we’ve gone hiking further."
   ]
  },
  {
   "cell_type": "markdown",
   "metadata": {},
   "source": [
    "Variables with numbers assigned to them can be treated as [literals](#word-literal). Basically, we can perform any arithmetic operation on variables and Python will not be able to tell the difference between them and a literal. Performing arithmetic on variables does not change their value. You can only update a variable using the `=` sign.\n",
    "```python\n",
    "        concer_ticket_price = 231.50\n",
    "        number_of_people = 2000\n",
    "\n",
    "        # Prints \"463000\"\n",
    "        print(concer_ticket_price * number_of_people)\n",
    "        # Prints \"231.5\"\n",
    "        print(concer_ticket_price)\n",
    "        # Prints \"2000\"\n",
    "        print(number_of_people)\n",
    "\n",
    "        # We haven't sold any, so we update the price to make it more competitive\n",
    "        concer_ticket_price = 104\n",
    "\n",
    "        # Prints \"208000\"\n",
    "        print(concer_ticket_price * number_of_people)\n",
    "        # Prints \"104\"\n",
    "        print(concer_ticket_price)\n",
    "        # Prints \"2000\"\n",
    "        print(number_of_people)\n",
    "```\n",
    "We asign numeric values to 2 variables,`concer_ticket_price` and `number_of_people`. After that, we use them to perform a mathematical operation. This doesn’t affect thir values. \n",
    "When we update the `concer_ticket_price` variable and perform the calculations again, they use the updated values for the variable!\n",
    "\n",
    "Complete the following exercise:"
   ]
  },
  {
   "cell_type": "code",
   "execution_count": null,
   "metadata": {},
   "outputs": [],
   "source": [
    "# You are a professional stutns-person, your hourly rate is $250.4, and you usually do 15h of work per day. \n",
    "# Define a variable that holds your usual hourly rate (omit the $ sign)\n",
    "\n",
    "\n",
    "\n",
    "# Define another variable that holds the usual amount of hours you work in a day\n",
    "\n",
    "\n",
    "\n",
    "# Print out how much money you make in a day (rember to use the print() function)\n",
    "\n",
    "\n"
   ]
  },
  {
   "cell_type": "markdown",
   "metadata": {},
   "source": [
    "Python can also raise numbers to any power. When doing math on paper you usulally write your exponents in superscript (`2²`), typing superscript numbers isn’t always easy on modern keyboards since youhave to do some wierd key combinations. Seeing ad this operation is so closely related to multiplication, we use the notation **.\n",
    "```python\n",
    "        # 3 to the 4th power, or 81\n",
    "        print(3 ** 4)\n",
    "\n",
    "        # 2 squared, or 4\n",
    "        print(2 ** 2)\n",
    "\n",
    "        # 9 * 9 * 9, 9 cubed, or 729\n",
    "        print(9 ** 3)\n",
    "\n",
    "        # We can even perform fractional exponents using floating-point numbers\n",
    "        # 16 to the half power, or 4\n",
    "        print(16 ** 0.5)\n",
    "```\n",
    "In the obove example we can see how we calculated some simple exponents. We calculate 3 to the 4th power, 2 to the 2nd power, 9 to the 3rd power, and 16 to the 0.5th power.\n",
    "\n",
    "Complete the next exercise:"
   ]
  },
  {
   "cell_type": "code",
   "execution_count": null,
   "metadata": {},
   "outputs": [],
   "source": [
    "# You have decided to refloor your kitchen, it is a perfectly square room which measures 6x6 meters\n",
    "# Each of the tiles you have is 1 by 1 meter\n",
    "# Print how many tiles you will need to refloor your kitchen\n",
    "\n"
   ]
  },
  {
   "cell_type": "markdown",
   "metadata": {},
   "source": [
    "When you devide two numbers that are coprime, you will always get a remainder. Python makes the job of getting that remainder easy by allowing you to use the modulo operator `%`. The modulo operator gives the remainder of a division calculation. If the numbers are not coprime (they are divisible by eachother), the result of the modulo operator will be 0.\n",
    "```python\n",
    "        # Prints 1 because 5/2 equals 2 with a remainder of 1\n",
    "        print(5%2)\n",
    "\n",
    "        # Prints 2 because 12/5 equals 2 with a remainder of 2\n",
    "        print(12%5)\n",
    "```\n",
    "In the obove example we used the modulo operator to get the remainder of two divisions.\n",
    "\n",
    "The modulo operator is useful in programming when we want to perform an action every nth-time the code is run."
   ]
  },
  {
   "cell_type": "code",
   "execution_count": null,
   "metadata": {},
   "outputs": [],
   "source": [
    "# You have 529 grains of rice and you want to feed 5 children. \n",
    "# You decide to divide them evenly and take the remainder for yourself.\n",
    "# Calculate how many grains of rice you would get using the modulo operator and print the value out\n",
    "\n",
    "\n"
   ]
  },
  {
   "cell_type": "markdown",
   "metadata": {},
   "source": [
    "#### - Variables: String Math  <a name='section-variables-stringmath'> </a>\n",
    "\n",
    "The `+` operator isn't only used for numbers, it can also be used for strings. Addig two strings together is called `string concatenation`. \n",
    "When you concatenate two strings you create a new string, that string contains the first string’s contents followed by the second string’s contents (without any added space in-between).\n",
    "```python\n",
    "        danny_phantom_quote = \"If somebody catches me, I go from geek to freak around here!\"\n",
    "        quote_date = \"Circa April 3, 2004\"\n",
    "        full_quote = danny_phantom_quote + quote_date\n",
    "\n",
    "        # Prints \"If somebody catches me, I go from geek to freak around here!Circa April 3, 2004\"\n",
    "        print(full_quote)\n",
    "````\n",
    "\n",
    "In the example above we create two variables that hold strings, which we then concatenate. If you look at the output you will see that there is no space between the strings we added together. That is because concatenation does not add spaces. Let's fix that issue by concatenating a space between our variables.\n",
    "```python\n",
    "        full_quote = danny_phantom_quote + \" \" + quote_date\n",
    "\n",
    "        # Prints \"If somebody catches me, I go from geek to freak around here! Circa April 3, 2004\"\n",
    "        print(full_quote)\n",
    "```\n",
    "After that little addition, the code prints the message we wanted it to print.\n",
    "\n",
    "In Python you can only concatenate strings with other strings. In the event that you want to concatenate a string with anything other than a string, you will need to turn that non-string object intro a string. To do that you can use the `str()` function. If you’re trying to `print()` a numeric variable you can use commas to pass it as a different argument rather than converting it to a string.\n",
    "```python\n",
    "        eating_competition = \"I have eaten \"\n",
    "        hotdogs_eaten = 32\n",
    "        eating_competition_2 = \" hotdogs in 60 seconds!\"\n",
    "\n",
    "        # Concatenating an integer with strings is possible if we turn the integer into a string first\n",
    "        full_competition_string = eating_competition + str(hotdogs_eaten) + eating_competition_2\n",
    "\n",
    "        # Prints \"I have eaten 32 hotdogs in 60 seconds!\"\n",
    "        print(full_competition_string)\n",
    "\n",
    "        # If we just want to print an integer \n",
    "        # we can pass a variable as an argument to \n",
    "        # print() regardless of whether \n",
    "        # it is a string.\n",
    "\n",
    "        # This also prints \"I have eaten 32 hotdogs in 60 seconds!\"\n",
    "        print(eating_competition, hotdogs_eaten, eating_competition_2)\n",
    "```\n",
    "Using `str()` we can convert variables that are not strings to strings and then concatenate them. But we don’t need to convert a number to a string for it to be an argument to a print statement.\n",
    "\n",
    "The [plus-equals operator](#section-plus-equals) also can be used for string concatenation, like so:\n",
    "```python\n",
    "        quirky_caption = \"I licked it, so it's mine.\"\n",
    "\n",
    "        # Almost forgot the hashtags! (notice the use of spacing)\n",
    "        quirky_caption += \" #not_like_other_girls \"\n",
    "        quirky_caption += \" #quirky\"\n",
    "\n",
    "        # This prints \"I licked it, so it's mine. #not_like_other_girls #quirky\"\n",
    "        print(quirky_caption)\n",
    "```\n",
    "In the above example we created a cpation for a photograph of me licking an orange I found on the street. But then we added some hashtags for me to get instafamous.\n",
    "\n",
    "Complete the following exercise please:"
   ]
  },
  {
   "cell_type": "code",
   "execution_count": null,
   "metadata": {},
   "outputs": [],
   "source": [
    "# Our close friends are trying to hide from the coding mafia and have decided to skip country\n",
    "# They taked us with making thier fake passport. We initially quoted them 3200€\n",
    "\n",
    "quoted_price = 3200\n",
    "\n",
    "# Last minute he decided to add some stuff to the deal. A fake ID, some food for the trip, and plant tickers\n",
    "fake_id = 150\n",
    "food = 50\n",
    "plane_tickets = 2309\n",
    "\n",
    "# Update the quoted price using the += operator\n",
    "\n",
    "\n",
    "\n",
    "# We need to send them a message to tell them the new price\n",
    "# Use the next sentence bits and the += operator to build the message\n",
    "message_part_1 = \"Hi Heathers, we know we quoted you 3200€ but the extra stuff has made the price go up to \"\n",
    "message_part_2 = \"sorry if that complicates things a little... hugs, totally not the coding mafia.\"\n",
    "\n",
    "# Print the message.\n",
    "# Make sure that the spacing between words is correct! \n",
    "print()"
   ]
  },
  {
   "cell_type": "code",
   "execution_count": null,
   "metadata": {},
   "outputs": [],
   "source": []
  },
  {
   "cell_type": "markdown",
   "metadata": {},
   "source": [
    "---\n",
    "---\n",
    "\n",
    "\n",
    "### Word definitions:\n",
    "\n",
    "- **Scope:** The visibility of variables and methods in one part of a program to another part of that program. The importance and meaning of scope varies between languages, but there are two general scope concepts many languages have in common: local and global scope. [Wikiversity](https://en.wikiversity.org/wiki/Introduction_to_Programming/Scope) <a name = \"word-scope\"></a>\n",
    "\n",
    "- **Data type:** A particular kind of data item, as defined by the values it can take, the programming language used, or the operations that can be performed on it. [Oxford](https://www.lexico.com/definition/data_type) <a name = \"word-data-type\"></a>\n",
    "\n",
    "- **Literal:** In programming, a value written exactly as it's meant to be interpreted (eg: 3, 2, cat, mouse, etc). In contrast, a variable is a name that can represent different values during the execution of the program. [Webopedia](https://www.webopedia.com/TERM/L/literal.html) <a name= \"word-literal\"></a>"
   ]
  }
 ],
 "metadata": {
  "kernelspec": {
   "display_name": "Python 3",
   "language": "python",
   "name": "python3"
  },
  "language_info": {
   "codemirror_mode": {
    "name": "ipython",
    "version": 3
   },
   "file_extension": ".py",
   "mimetype": "text/x-python",
   "name": "python",
   "nbconvert_exporter": "python",
   "pygments_lexer": "ipython3",
   "version": "3.7.6"
  }
 },
 "nbformat": 4,
 "nbformat_minor": 4
}
